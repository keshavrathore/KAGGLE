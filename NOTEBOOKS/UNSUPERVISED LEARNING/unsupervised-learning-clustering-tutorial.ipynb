{
 "cells": [
  {
   "cell_type": "markdown",
   "metadata": {},
   "source": [
    "## Unsupervised Learning: Clustering"
   ]
  },
  {
   "cell_type": "markdown",
   "metadata": {},
   "source": [
    "Just a few words before we start. This topic is very import and interesting and worth spending some time to read about it. There is a fantastic Yorko's tutorial on unsupervised learning [www.kaggle.com/kashnitsky/topic-7-unsupervised-learning-pca-and-clustering](http://), still there are some clustering techniques, which were not covered in that tutorial. My tutorial is a brief overview of clustering methods provided by sklearn library in Python, which were not listed in Yorko's kernel.\n",
    "\n",
    "Looking forward to seeing your feedback. Enjoy!"
   ]
  },
  {
   "cell_type": "markdown",
   "metadata": {},
   "source": [
    "## Libraries"
   ]
  },
  {
   "cell_type": "code",
   "execution_count": 1,
   "metadata": {},
   "outputs": [
    {
     "name": "stderr",
     "output_type": "stream",
     "text": [
      "C:\\Users\\kesha\\Anaconda3\\lib\\site-packages\\statsmodels\\tools\\_testing.py:19: FutureWarning: pandas.util.testing is deprecated. Use the functions in the public API at pandas.testing instead.\n",
      "  import pandas.util.testing as tm\n"
     ]
    }
   ],
   "source": [
    "import numpy as np\n",
    "import pandas as pd\n",
    "import os\n",
    "import seaborn as sns\n",
    "import matplotlib.pyplot as plt\n",
    "from tqdm import tqdm_notebook\n",
    "from sklearn import datasets\n",
    "from sklearn.cluster import KMeans, MeanShift, DBSCAN, Birch\n",
    "from sklearn import metrics"
   ]
  },
  {
   "cell_type": "markdown",
   "metadata": {},
   "source": [
    "## Data"
   ]
  },
  {
   "cell_type": "markdown",
   "metadata": {},
   "source": [
    "In order to make it easy to compare results of this tutorial with Yorko's I will use the same dataset, MNIST dataset."
   ]
  },
  {
   "cell_type": "code",
   "execution_count": 2,
   "metadata": {
    "_cell_guid": "79c7e3d0-c299-4dcb-8224-4455121ee9b0",
    "_uuid": "d629ff2d2480ee46fbb7e2d37f6b5fab8052498a"
   },
   "outputs": [
    {
     "data": {
      "text/plain": [
       "((1797, 64), (1797,))"
      ]
     },
     "execution_count": 2,
     "metadata": {},
     "output_type": "execute_result"
    }
   ],
   "source": [
    "data = datasets.load_digits()\n",
    "X, y = data.data, data.target\n",
    "X.shape, y.shape"
   ]
  },
  {
   "cell_type": "code",
   "execution_count": 3,
   "metadata": {},
   "outputs": [
    {
     "data": {
      "image/png": "[encoded data removed]",
      "text/plain": [
       "<Figure size 432x288 with 1 Axes>"
      ]
     },
     "metadata": {
      "needs_background": "light"
     },
     "output_type": "display_data"
    }
   ],
   "source": [
    "sns.countplot(y);"
   ]
  },
  {
   "cell_type": "markdown",
   "metadata": {},
   "source": [
    "As you can see we need to take care of ideally balanced multiclass data set. Now let's visualize our data."
   ]
  },
  {
   "cell_type": "code",
   "execution_count": 4,
   "metadata": {},
   "outputs": [
    {
     "data": {
      "image/png": "[encoded data removed]",
      "text/plain": [
       "<Figure size 1152x432 with 10 Axes>"
      ]
     },
     "metadata": {
      "needs_background": "light"
     },
     "output_type": "display_data"
    }
   ],
   "source": [
    "plt.figure(figsize=(16, 6))\n",
    "for i in range(10):\n",
    "    plt.subplot(2, 5, i + 1)\n",
    "    plt.imshow(X[i,:].reshape([8,8]), cmap='gray');"
   ]
  },
  {
   "cell_type": "markdown",
   "metadata": {},
   "source": [
    "## Clustering Methods"
   ]
  },
  {
   "cell_type": "markdown",
   "metadata": {},
   "source": [
    "<img src=\"https://scikit-learn.org/stable/_images/sphx_glr_plot_cluster_comparison_0011.png\" width=\"750px\"/>"
   ]
  },
  {
   "cell_type": "markdown",
   "metadata": {},
   "source": [
    "### K-Means"
   ]
  },
  {
   "cell_type": "markdown",
   "metadata": {},
   "source": [
    "The most well known clustering algorithm is definitely K-means. It was discussed in Yorko's tutorial, so I will not pay too much attention to this method, I will remind it's basic steps, and later K-means will be used as a baseline model. It is easy to undersatnd and easy to implement K-means. K-means tries to choose centroids ('means') in order to minimize within-cluster inertia.\n",
    "\n",
    "Basic iterations of K-means look like this:\n",
    "\n",
    "1. We randomly initialize K cluster centers. Centers of clusters are simply some of the observation from given dataset;\n",
    "2. For each observation from dataset is computed the distance between one and all clusters' centers. Observations relate to a cluster, which centers is the closest to them;\n",
    "3. Centers of clusters are recomputed based on values of all data points within a given cluster;\n",
    "4. Steps 2-3 are repeated until convergence is not reached."
   ]
  },
  {
   "cell_type": "markdown",
   "metadata": {},
   "source": [
    "<img src=\"https://cdn-images-1.medium.com/max/800/1*KrcZK0xYgTa4qFrVr0fO2w.gif\" width=\"350px\"/>"
   ]
  },
  {
   "cell_type": "markdown",
   "metadata": {},
   "source": [
    "**Advantages:**\n",
    "\n",
    "1. Simplicity - It's easy to understand and interpret;\n",
    "2. Speed - Algorithm will converge very fast, comparing to other methods;\n",
    "\n",
    "**Drawbacks:**\n",
    "\n",
    "1. There is need to specify number of clusters;\n",
    "2. Algorithm starts from random points, which may lead to different results."
   ]
  },
  {
   "cell_type": "markdown",
   "metadata": {},
   "source": [
    "### Mean-Shift"
   ]
  },
  {
   "cell_type": "markdown",
   "metadata": {},
   "source": [
    "Mean-shift is a clustering algorithm, which aims to locate centers of clusters in the most dense area of data points. Mean-shift starts from a ramdom point, where it locates a circular sliding window of radius r (which is a parameter we are able to specify). Mean-shift is shifting step-by-step center point to a region with higher density. The algorithm will shift the sliding window untill he can not find a direction with higher density of data points. When multiple sliding windows iverlap each other, then the window, which contains the biggest number of data points, is choosed as a final cluster."
   ]
  },
  {
   "cell_type": "markdown",
   "metadata": {},
   "source": [
    "<img src=\"https://cdn-images-1.medium.com/max/800/1*vyz94J_76dsVToaa4VG1Zg.gif\" width=\"350px\"/>"
   ]
  },
  {
   "cell_type": "markdown",
   "metadata": {},
   "source": [
    "**Advantages:**\n",
    "\n",
    "1. There is no need to specify number of clusters;\n",
    "2. Algorithm is guaranteed to converge;\n",
    "\n",
    "**Drawbacks:**\n",
    "\n",
    "1. Algorithm is mot highly scalable;\n",
    "2. In sklearn there is no need to specify r, still selection of this parameter is not trivial."
   ]
  },
  {
   "cell_type": "markdown",
   "metadata": {},
   "source": [
    "### DBSCAN"
   ]
  },
  {
   "cell_type": "markdown",
   "metadata": {},
   "source": [
    "DBSCAN is a clustering algorithm, which core idea is finding high density area. So it is quite similar to Mean-shift, still there is a difference between them. DBSCAN works this way:\n",
    "\n",
    "1. DBSCAN starts with an arbitrary data point, which is not labeled as visited. Using parameter epsilon, which has to be set by user, an algorithm extracts the neighborhood of this data point. Neighborhood are all points within distance epsilon.\n",
    "2. There is one more parameter, which has to be set - min_samples. If there are min_samples within neighborhood, than starts clustering process, and this data point becomes the first data point in cluster. If there are less data pioint in neighborhood than min_samples, than this data point is labeled as outlier, but it is also labeled as visited.\n",
    "3. For the first data point belonging to a cluster all data points in it's neighborhood also become part of this cluster.\n",
    "4. The process from 2-3 is repetated for all data points in cluster, untill there are no unvisited data points.\n",
    "5. When the algorithm managed to visit all data points in the first cluster, it starts with another arbitrary data point, which has not been visited. Then process from 2-4 is repeated for all new clusters. In the end there are no unvisited data points, all of them belong to some clusters or labeled as outliers."
   ]
  },
  {
   "cell_type": "markdown",
   "metadata": {},
   "source": [
    "<img src=\"https://cdn-images-1.medium.com/max/1600/1*tc8UF-h0nQqUfLC8-0uInQ.gif\" width=\"550px\"/>"
   ]
  },
  {
   "cell_type": "markdown",
   "metadata": {},
   "source": [
    "**Advantages:**\n",
    "\n",
    "1. There is no need to specify number of clusters;\n",
    "2. Algorithm is able to identify outliers;\n",
    "3. Algorithm is capabale of finding cluster of arbitrary shape and size;\n",
    "\n",
    "**Drawbacks:**\n",
    "\n",
    "1. It is not easy to estimate **epsilon** and **min_samples**;\n",
    "2. Algorithm does not perform well on data with varying density."
   ]
  },
  {
   "cell_type": "markdown",
   "metadata": {},
   "source": [
    "### Birch"
   ]
  },
  {
   "cell_type": "markdown",
   "metadata": {},
   "source": [
    "Birch is a clustering algorithm, which can handle a large amount of data. Birch builds so called Characteristic Feature Tree (CFT) to form a set of Characteristic Feature Nodes (CFN). Inside CFN there are some Characteristic Feature Subclusters (CFS), which hold sufficient information about data. As you can see there is no need to store all the data in memory, because every valuable information can be found in CFS, thus Birch algorithm can be thought as a data reduction method CFS contains information:\n",
    "\n",
    "1. Number of samples in a subcluster;\n",
    "2. Linear Sum - A n-dimensional vector holding the sum of all samples;\n",
    "3. Squared Sum - Sum of the squared L2 norm of all samples;\n",
    "4. Centroids - To avoid recalculation linear sum / n_samples;\n",
    "5. Squared norm of the centroids."
   ]
  },
  {
   "cell_type": "markdown",
   "metadata": {},
   "source": [
    "**Advantages:**\n",
    "\n",
    "1. Birch can handle large datasets;\n",
    "\n",
    "**Drawbacks:**\n",
    "\n",
    "1. There is need to specify number of clusters;\n",
    "2. Apart from number of clusters we have to specify two more parameters;\n",
    "3. Birch doesn't perform well on high dimensional data (if there are >20 features, you'd better use something else)."
   ]
  },
  {
   "cell_type": "markdown",
   "metadata": {},
   "source": [
    "## Clustering performance evaluation"
   ]
  },
  {
   "cell_type": "markdown",
   "metadata": {},
   "source": [
    "| Metric Name | Knowledge of Groud Truth |\n",
    "|---|---|\n",
    "| Adjusted Rand index | Yes |\n",
    "| Mutual Information based scores | Yes |\n",
    "| Homogeneity, completeness and V-measure | Yes |\n",
    "| Fowlkes-Mallows scores | Yes |\n",
    "| Silhouette Coefficient | No |\n",
    "| Calinski-Harabaz Index | No |\n",
    "| Davies-Bouldin Index | No |\n",
    "| Contingency Matrix | Yes |"
   ]
  },
  {
   "cell_type": "markdown",
   "metadata": {},
   "source": [
    "## Comparing clustering algorithms"
   ]
  },
  {
   "cell_type": "code",
   "execution_count": 5,
   "metadata": {},
   "outputs": [],
   "source": [
    "output = pd.DataFrame(index=['K-Means','Mean-Shift','DBSCAN','Birch'],\n",
    "                      columns=['ARI','MI','HCV','FM','SC','CH','DB'])"
   ]
  },
  {
   "cell_type": "code",
   "execution_count": null,
   "metadata": {},
   "outputs": [],
   "source": [
    "pip uninstall scikit-learn"
   ]
  },
  {
   "cell_type": "markdown",
   "metadata": {},
   "source": [
    "### K-Means"
   ]
  },
  {
   "cell_type": "code",
   "execution_count": 13,
   "metadata": {},
   "outputs": [
    {
     "ename": "AttributeError",
     "evalue": "module 'sklearn.metrics' has no attribute 'calinski_harabaz_score'",
     "output_type": "error",
     "traceback": [
      "\u001b[1;31m---------------------------------------------------------------------------\u001b[0m",
      "\u001b[1;31mAttributeError\u001b[0m                            Traceback (most recent call last)",
      "\u001b[1;32m<ipython-input-13-5bd08f9504c0>\u001b[0m in \u001b[0;36m<module>\u001b[1;34m\u001b[0m\n\u001b[0;32m      9\u001b[0m \u001b[0moutput\u001b[0m\u001b[1;33m.\u001b[0m\u001b[0mloc\u001b[0m\u001b[1;33m[\u001b[0m\u001b[1;34m'K-Means'\u001b[0m\u001b[1;33m,\u001b[0m\u001b[1;34m'FM'\u001b[0m\u001b[1;33m]\u001b[0m \u001b[1;33m=\u001b[0m \u001b[0mmetrics\u001b[0m\u001b[1;33m.\u001b[0m\u001b[0mfowlkes_mallows_score\u001b[0m\u001b[1;33m(\u001b[0m\u001b[0my\u001b[0m\u001b[1;33m,\u001b[0m \u001b[0mlabels\u001b[0m\u001b[1;33m)\u001b[0m\u001b[1;33m\u001b[0m\u001b[1;33m\u001b[0m\u001b[0m\n\u001b[0;32m     10\u001b[0m \u001b[0moutput\u001b[0m\u001b[1;33m.\u001b[0m\u001b[0mloc\u001b[0m\u001b[1;33m[\u001b[0m\u001b[1;34m'K-Means'\u001b[0m\u001b[1;33m,\u001b[0m\u001b[1;34m'SC'\u001b[0m\u001b[1;33m]\u001b[0m \u001b[1;33m=\u001b[0m \u001b[0mmetrics\u001b[0m\u001b[1;33m.\u001b[0m\u001b[0msilhouette_score\u001b[0m\u001b[1;33m(\u001b[0m\u001b[0mX\u001b[0m\u001b[1;33m,\u001b[0m \u001b[0mlabels\u001b[0m\u001b[1;33m,\u001b[0m \u001b[0mmetric\u001b[0m\u001b[1;33m=\u001b[0m\u001b[1;34m'euclidean'\u001b[0m\u001b[1;33m)\u001b[0m\u001b[1;33m\u001b[0m\u001b[1;33m\u001b[0m\u001b[0m\n\u001b[1;32m---> 11\u001b[1;33m \u001b[0moutput\u001b[0m\u001b[1;33m.\u001b[0m\u001b[0mloc\u001b[0m\u001b[1;33m[\u001b[0m\u001b[1;34m'K-Means'\u001b[0m\u001b[1;33m,\u001b[0m\u001b[1;34m'CH'\u001b[0m\u001b[1;33m]\u001b[0m \u001b[1;33m=\u001b[0m \u001b[0mmetrics\u001b[0m\u001b[1;33m.\u001b[0m\u001b[0mcalinski_harabaz_score\u001b[0m\u001b[1;33m(\u001b[0m\u001b[0mX\u001b[0m\u001b[1;33m,\u001b[0m \u001b[0mlabels\u001b[0m\u001b[1;33m)\u001b[0m\u001b[1;33m\u001b[0m\u001b[1;33m\u001b[0m\u001b[0m\n\u001b[0m\u001b[0;32m     12\u001b[0m \u001b[0moutput\u001b[0m\u001b[1;33m.\u001b[0m\u001b[0mloc\u001b[0m\u001b[1;33m[\u001b[0m\u001b[1;34m'K-Means'\u001b[0m\u001b[1;33m,\u001b[0m\u001b[1;34m'DB'\u001b[0m\u001b[1;33m]\u001b[0m \u001b[1;33m=\u001b[0m \u001b[0mmetrics\u001b[0m\u001b[1;33m.\u001b[0m\u001b[0mdavies_bouldin_score\u001b[0m\u001b[1;33m(\u001b[0m\u001b[0mX\u001b[0m\u001b[1;33m,\u001b[0m \u001b[0mlabels\u001b[0m\u001b[1;33m)\u001b[0m\u001b[1;33m\u001b[0m\u001b[1;33m\u001b[0m\u001b[0m\n",
      "\u001b[1;31mAttributeError\u001b[0m: module 'sklearn.metrics' has no attribute 'calinski_harabaz_score'"
     ]
    }
   ],
   "source": [
    "# Fitting K-Means to data\n",
    "clust_model = KMeans(n_clusters=10, random_state=17)\n",
    "clust_model.fit(X)\n",
    "# Evaluating model's performance\n",
    "labels = clust_model.labels_\n",
    "output.loc['K-Means','ARI'] = metrics.adjusted_rand_score(y, labels)\n",
    "output.loc['K-Means','MI'] = metrics.adjusted_mutual_info_score(y, labels)\n",
    "output.loc['K-Means','HCV'] = metrics.homogeneity_score(y, labels)\n",
    "output.loc['K-Means','FM'] = metrics.fowlkes_mallows_score(y, labels)\n",
    "output.loc['K-Means','SC'] = metrics.silhouette_score(X, labels, metric='euclidean')\n",
    "output.loc['K-Means','CH'] = metrics.calinski_harabaz_score(X, labels)\n",
    "output.loc['K-Means','DB'] = metrics.davies_bouldin_score(X, labels)"
   ]
  },
  {
   "cell_type": "markdown",
   "metadata": {},
   "source": [
    "### Mean-shift"
   ]
  },
  {
   "cell_type": "markdown",
   "metadata": {},
   "source": [
    "As you can see one of Mean-Shift drawbacks come to an action: we need to specify bandwidth here, which might be challenging."
   ]
  },
  {
   "cell_type": "code",
   "execution_count": 11,
   "metadata": {},
   "outputs": [
    {
     "name": "stdout",
     "output_type": "stream",
     "text": [
      "tblib-1.7.0          | 16 KB     | ########## | 100% \n",
      "tblib-1.7.0          | 16 KB     | ########## | 100% \n",
      "\n",
      "jupyterlab_pygments- | 9 KB      |            |   0% \n",
      "jupyterlab_pygments- | 9 KB      | ########## | 100% \n",
      "jupyterlab_pygments- | 9 KB      | ########## | 100% \n",
      "\n",
      "xlsxwriter-1.3.4     | 108 KB    |            |   0% \n",
      "xlsxwriter-1.3.4     | 108 KB    | ########## | 100% \n",
      "xlsxwriter-1.3.4     | 108 KB    | ########## | 100% \n",
      "\n",
      "bitarray-1.5.3       | 92 KB     |            |   0% \n",
      "bitarray-1.5.3       | 92 KB     | ########## | 100% \n",
      "bitarray-1.5.3       | 92 KB     | ########## | 100% \n",
      "\n",
      "xlwings-0.20.7       | 736 KB    |            |   0% \n",
      "xlwings-0.20.7       | 736 KB    | ######3    |  63% \n",
      "xlwings-0.20.7       | 736 KB    | ########## | 100% \n",
      "xlwings-0.20.7       | 736 KB    | ########## | 100% \n",
      "\n",
      "cytoolz-0.11.0       | 279 KB    |            |   0% \n",
      "cytoolz-0.11.0       | 279 KB    | ########## | 100% \n",
      "cytoolz-0.11.0       | 279 KB    | ########## | 100% \n",
      "\n",
      "bcrypt-3.2.0         | 44 KB     |            |   0% \n",
      "bcrypt-3.2.0         | 44 KB     | ########## | 100% \n",
      "bcrypt-3.2.0         | 44 KB     | ########## | 100% \n",
      "\n",
      "matplotlib-3.3.1     | 25 KB     |            |   0% \n",
      "matplotlib-3.3.1     | 25 KB     | ########## | 100% \n",
      "\n",
      "seaborn-0.11.0       | 210 KB    |            |   0% \n",
      "seaborn-0.11.0       | 210 KB    | ########## | 100% \n",
      "seaborn-0.11.0       | 210 KB    | ########## | 100% \n",
      "\n",
      "nest-asyncio-1.4.0   | 12 KB     |            |   0% \n",
      "nest-asyncio-1.4.0   | 12 KB     | ########## | 100% \n",
      "\n",
      "wheel-0.35.1         | 37 KB     |            |   0% \n",
      "wheel-0.35.1         | 37 KB     | ########## | 100% \n",
      "wheel-0.35.1         | 37 KB     | ########## | 100% \n",
      "\n",
      "tbb-2020.3           | 156 KB    |            |   0% \n",
      "tbb-2020.3           | 156 KB    | ########## | 100% \n",
      "tbb-2020.3           | 156 KB    | ########## | 100% \n",
      "\n",
      "cffi-1.14.3          | 222 KB    |            |   0% \n",
      "cffi-1.14.3          | 222 KB    | ########## | 100% \n",
      "cffi-1.14.3          | 222 KB    | ########## | 100% \n",
      "\n",
      "pylint-2.6.0         | 460 KB    |            |   0% \n",
      "pylint-2.6.0         | 460 KB    | ########## | 100% \n",
      "pylint-2.6.0         | 460 KB    | ########## | 100% \n",
      "\n",
      "tqdm-4.49.0          | 55 KB     |            |   0% \n",
      "tqdm-4.49.0          | 55 KB     | ########## | 100% \n",
      "tqdm-4.49.0          | 55 KB     | ########## | 100% \n",
      "\n",
      "spyder-kernels-1.9.4 | 98 KB     |            |   0% \n",
      "spyder-kernels-1.9.4 | 98 KB     | ########## | 100% \n",
      "spyder-kernels-1.9.4 | 98 KB     | ########## | 100% \n",
      "\n",
      "ujson-3.2.0          | 46 KB     |            |   0% \n",
      "ujson-3.2.0          | 46 KB     | ########## | 100% \n",
      "\n",
      "mkl_fft-1.2.0        | 118 KB    |            |   0% \n",
      "mkl_fft-1.2.0        | 118 KB    | ########## | 100% \n",
      "mkl_fft-1.2.0        | 118 KB    | ########## | 100% \n",
      "\n",
      "statsmodels-0.11.1   | 7.4 MB    |            |   0% \n",
      "statsmodels-0.11.1   | 7.4 MB    | 5          |   6% \n",
      "statsmodels-0.11.1   | 7.4 MB    | #7         |  18% \n",
      "statsmodels-0.11.1   | 7.4 MB    | ###1       |  31% \n",
      "statsmodels-0.11.1   | 7.4 MB    | ####8      |  49% \n",
      "statsmodels-0.11.1   | 7.4 MB    | #######    |  71% \n",
      "statsmodels-0.11.1   | 7.4 MB    | ########8  |  89% \n",
      "statsmodels-0.11.1   | 7.4 MB    | ########## | 100% \n",
      "\n",
      "jupyterlab-2.2.6     | 3.4 MB    |            |   0% \n",
      "jupyterlab-2.2.6     | 3.4 MB    | 2          |   2% \n",
      "jupyterlab-2.2.6     | 3.4 MB    | 6          |   6% \n",
      "jupyterlab-2.2.6     | 3.4 MB    | #1         |  11% \n",
      "jupyterlab-2.2.6     | 3.4 MB    | #5         |  15% \n",
      "jupyterlab-2.2.6     | 3.4 MB    | #9         |  19% \n",
      "jupyterlab-2.2.6     | 3.4 MB    | ##4        |  24% \n",
      "jupyterlab-2.2.6     | 3.4 MB    | ##8        |  28% \n",
      "jupyterlab-2.2.6     | 3.4 MB    | ###2       |  32% \n",
      "jupyterlab-2.2.6     | 3.4 MB    | ###6       |  37% \n",
      "jupyterlab-2.2.6     | 3.4 MB    | ####       |  41% \n",
      "jupyterlab-2.2.6     | 3.4 MB    | ####8      |  49% \n",
      "jupyterlab-2.2.6     | 3.4 MB    | #####6     |  57% \n",
      "jupyterlab-2.2.6     | 3.4 MB    | ######2    |  63% \n",
      "jupyterlab-2.2.6     | 3.4 MB    | ########5  |  85% \n",
      "jupyterlab-2.2.6     | 3.4 MB    | ########## | 100% \n",
      "jupyterlab-2.2.6     | 3.4 MB    | ########## | 100% \n",
      "\n",
      "pydocstyle-5.1.1     | 38 KB     |            |   0% \n",
      "pydocstyle-5.1.1     | 38 KB     | ########## | 100% \n",
      "pydocstyle-5.1.1     | 38 KB     | ########## | 100% \n",
      "\n",
      "matplotlib-base-3.3. | 5.1 MB    |            |   0% \n",
      "matplotlib-base-3.3. | 5.1 MB    | #          |  10% \n",
      "matplotlib-base-3.3. | 5.1 MB    | ##9        |  29% \n",
      "matplotlib-base-3.3. | 5.1 MB    | ####7      |  48% \n",
      "matplotlib-base-3.3. | 5.1 MB    | ######7    |  68% \n",
      "matplotlib-base-3.3. | 5.1 MB    | ########9  |  90% \n",
      "matplotlib-base-3.3. | 5.1 MB    | ########## | 100% \n",
      "\n",
      "scikit-learn-0.23.2  | 4.6 MB    |            |   0% \n",
      "scikit-learn-0.23.2  | 4.6 MB    | 6          |   6% \n",
      "scikit-learn-0.23.2  | 4.6 MB    | #5         |  15% \n",
      "scikit-learn-0.23.2  | 4.6 MB    | ##6        |  27% \n",
      "scikit-learn-0.23.2  | 4.6 MB    | #####2     |  53% \n",
      "scikit-learn-0.23.2  | 4.6 MB    | #######7   |  78% \n",
      "scikit-learn-0.23.2  | 4.6 MB    | ########## | 100% \n",
      "scikit-learn-0.23.2  | 4.6 MB    | ########## | 100% \n",
      "\n",
      "zeromq-4.3.2         | 4.1 MB    |            |   0% \n",
      "zeromq-4.3.2         | 4.1 MB    |            |   0% \n",
      "zeromq-4.3.2         | 4.1 MB    | 3          |   4% \n",
      "zeromq-4.3.2         | 4.1 MB    | 5          |   6% \n",
      "zeromq-4.3.2         | 4.1 MB    | #2         |  12% \n",
      "zeromq-4.3.2         | 4.1 MB    | ##7        |  28% \n",
      "zeromq-4.3.2         | 4.1 MB    | ####8      |  48% \n",
      "zeromq-4.3.2         | 4.1 MB    | ######5    |  65% \n",
      "zeromq-4.3.2         | 4.1 MB    | ########9  |  89% \n",
      "zeromq-4.3.2         | 4.1 MB    | ########## | 100% \n",
      "\n",
      "isort-5.5.3          | 162 KB    |            |   0% \n",
      "isort-5.5.3          | 162 KB    | ########## | 100% \n",
      "isort-5.5.3          | 162 KB    | ########## | 100% \n",
      "\n",
      "typing_extensions-3. | 28 KB     |            |   0% \n",
      "typing_extensions-3. | 28 KB     | ########## | 100% \n",
      "typing_extensions-3. | 28 KB     | ########## | 100% \n",
      "\n",
      "jupyter_console-6.2. | 26 KB     |            |   0% \n",
      "jupyter_console-6.2. | 26 KB     | ########## | 100% \n",
      "jupyter_console-6.2. | 26 KB     | ########## | 100% \n",
      "\n",
      "intervaltree-3.1.0   | 26 KB     |            |   0% \n",
      "intervaltree-3.1.0   | 26 KB     | ########## | 100% \n",
      "intervaltree-3.1.0   | 26 KB     | ########## | 100% \n",
      "\n",
      "dask-core-2.27.0     | 602 KB    |            |   0% \n",
      "dask-core-2.27.0     | 602 KB    | ########## | 100% \n",
      "dask-core-2.27.0     | 602 KB    | ########## | 100% \n",
      "\n",
      "keyring-21.4.0       | 76 KB     |            |   0% \n",
      "keyring-21.4.0       | 76 KB     | ##1        |  21% \n",
      "keyring-21.4.0       | 76 KB     | ########## | 100% \n",
      "keyring-21.4.0       | 76 KB     | ########## | 100% \n",
      "\n",
      "attrs-20.2.0         | 42 KB     |            |   0% \n",
      "attrs-20.2.0         | 42 KB     | ########## | 100% \n",
      "attrs-20.2.0         | 42 KB     | ########## | 100% \n",
      "\n",
      "spyder-4.1.5         | 5.7 MB    |            |   0% \n",
      "spyder-4.1.5         | 5.7 MB    | 6          |   7% \n",
      "spyder-4.1.5         | 5.7 MB    | ##         |  20% \n",
      "spyder-4.1.5         | 5.7 MB    | ###4       |  35% \n",
      "spyder-4.1.5         | 5.7 MB    | ####9      |  49% \n",
      "spyder-4.1.5         | 5.7 MB    | ######5    |  66% \n",
      "spyder-4.1.5         | 5.7 MB    | ########3  |  83% \n",
      "spyder-4.1.5         | 5.7 MB    | ########## | 100% \n",
      "spyder-4.1.5         | 5.7 MB    | ########## | 100% \n",
      "\n",
      "nbconvert-6.0.6      | 500 KB    |            |   0% \n",
      "nbconvert-6.0.6      | 500 KB    | ###5       |  35% \n",
      "nbconvert-6.0.6      | 500 KB    | ########## | 100% \n",
      "nbconvert-6.0.6      | 500 KB    | ########## | 100% \n",
      "\n",
      "openssl-1.1.1h       | 4.8 MB    |            |   0% \n",
      "openssl-1.1.1h       | 4.8 MB    | #2         |  13% \n",
      "openssl-1.1.1h       | 4.8 MB    | ####3      |  43% \n",
      "openssl-1.1.1h       | 4.8 MB    | #######8   |  78% \n",
      "openssl-1.1.1h       | 4.8 MB    | ########## | 100% \n",
      "openssl-1.1.1h       | 4.8 MB    | ########## | 100% \n",
      "\n",
      "pyrsistent-0.17.3    | 91 KB     |            |   0% \n",
      "pyrsistent-0.17.3    | 91 KB     | ########## | 100% \n",
      "pyrsistent-0.17.3    | 91 KB     | ########## | 100% \n",
      "\n",
      "paramiko-2.7.2       | 143 KB    |            |   0% \n",
      "paramiko-2.7.2       | 143 KB    | ########## | 100% \n",
      "paramiko-2.7.2       | 143 KB    | ########## | 100% \n",
      "\n",
      "bokeh-2.2.1          | 5.3 MB    |            |   0% \n",
      "bokeh-2.2.1          | 5.3 MB    | 6          |   7% \n",
      "bokeh-2.2.1          | 5.3 MB    | ##1        |  22% \n",
      "bokeh-2.2.1          | 5.3 MB    | ##9        |  30% \n",
      "bokeh-2.2.1          | 5.3 MB    | ###7       |  38% \n",
      "bokeh-2.2.1          | 5.3 MB    | ########## | 100% \n",
      "bokeh-2.2.1          | 5.3 MB    | ########## | 100% \n",
      "\n",
      "qtconsole-4.7.7      | 96 KB     |            |   0% \n",
      "qtconsole-4.7.7      | 96 KB     | ########## | 100% \n",
      "qtconsole-4.7.7      | 96 KB     | ########## | 100% \n",
      "\n",
      "greenlet-0.4.17      | 23 KB     |            |   0% \n",
      "greenlet-0.4.17      | 23 KB     | ########## | 100% \n",
      "greenlet-0.4.17      | 23 KB     | ########## | 100% \n",
      "\n",
      "scikit-image-0.16.2  | 22.6 MB   |            |   0% \n",
      "scikit-image-0.16.2  | 22.6 MB   | 2          |   3% \n",
      "scikit-image-0.16.2  | 22.6 MB   | 9          |   9% \n",
      "scikit-image-0.16.2  | 22.6 MB   | #1         |  12% \n",
      "scikit-image-0.16.2  | 22.6 MB   | ##         |  21% \n",
      "scikit-image-0.16.2  | 22.6 MB   | ##6        |  26% \n",
      "scikit-image-0.16.2  | 22.6 MB   | ###3       |  34% \n",
      "scikit-image-0.16.2  | 22.6 MB   | ####1      |  42% \n",
      "scikit-image-0.16.2  | 22.6 MB   | ####9      |  50% \n",
      "scikit-image-0.16.2  | 22.6 MB   | #####8     |  58% \n",
      "scikit-image-0.16.2  | 22.6 MB   | ######6    |  66% \n",
      "scikit-image-0.16.2  | 22.6 MB   | #######5   |  75% \n",
      "scikit-image-0.16.2  | 22.6 MB   | ########3  |  83% \n",
      "scikit-image-0.16.2  | 22.6 MB   | #########1 |  91% \n",
      "scikit-image-0.16.2  | 22.6 MB   | ########## | 100% \n",
      "scikit-image-0.16.2  | 22.6 MB   | ########## | 100% \n",
      "\n",
      "python-jsonrpc-serve | 12 KB     |            |   0% \n",
      "python-jsonrpc-serve | 12 KB     | ########## | 100% \n",
      "\n",
      "intel-openmp-2020.2  | 1.6 MB    |            |   0% \n",
      "intel-openmp-2020.2  | 1.6 MB    | ######9    |  69% \n",
      "intel-openmp-2020.2  | 1.6 MB    | ########## | 100% \n",
      "intel-openmp-2020.2  | 1.6 MB    | ########## | 100% \n",
      "\n",
      "bleach-3.2.1         | 112 KB    |            |   0% \n",
      "bleach-3.2.1         | 112 KB    | ########## | 100% \n",
      "bleach-3.2.1         | 112 KB    | ########## | 100% \n",
      "\n",
      "jupyter_client-6.1.7 | 77 KB     |            |   0% \n",
      "jupyter_client-6.1.7 | 77 KB     | ########## | 100% \n",
      "jupyter_client-6.1.7 | 77 KB     | ########## | 100% \n"
     ]
    },
    {
     "name": "stdout",
     "output_type": "stream",
     "text": [
      "\n",
      "distributed-2.28.0   | 1.0 MB    |            |   0% \n",
      "distributed-2.28.0   | 1.0 MB    | #######1   |  72% \n",
      "distributed-2.28.0   | 1.0 MB    | ########## | 100% \n",
      "distributed-2.28.0   | 1.0 MB    | ########## | 100% \n",
      "\n",
      "fsspec-0.8.0         | 70 KB     |            |   0% \n",
      "fsspec-0.8.0         | 70 KB     | ########## | 100% \n",
      "fsspec-0.8.0         | 70 KB     | ########## | 100% \n",
      "\n",
      "conda-4.8.5          | 2.9 MB    |            |   0% \n",
      "conda-4.8.5          | 2.9 MB    | #9         |  19% \n",
      "conda-4.8.5          | 2.9 MB    | #####7     |  58% \n",
      "conda-4.8.5          | 2.9 MB    | ########## | 100% \n",
      "conda-4.8.5          | 2.9 MB    | ########## | 100% \n",
      "\n",
      "nbclient-0.5.0       | 58 KB     |            |   0% \n",
      "nbclient-0.5.0       | 58 KB     | ########## | 100% \n",
      "nbclient-0.5.0       | 58 KB     | ########## | 100% \n",
      "\n",
      "prompt-toolkit-3.0.7 | 248 KB    |            |   0% \n",
      "prompt-toolkit-3.0.7 | 248 KB    | ########## | 100% \n",
      "prompt-toolkit-3.0.7 | 248 KB    | ########## | 100% \n",
      "\n",
      "python-language-serv | 48 KB     |            |   0% \n",
      "python-language-serv | 48 KB     | ########## | 100% \n",
      "python-language-serv | 48 KB     | ########## | 100% \n",
      "\n",
      "async_generator-1.10 | 40 KB     |            |   0% \n",
      "async_generator-1.10 | 40 KB     | ########## | 100% \n",
      "\n",
      "pandas-1.1.1         | 7.3 MB    |            |   0% \n",
      "pandas-1.1.1         | 7.3 MB    | 7          |   7% \n",
      "pandas-1.1.1         | 7.3 MB    | #8         |  19% \n",
      "pandas-1.1.1         | 7.3 MB    | ##8        |  29% \n",
      "pandas-1.1.1         | 7.3 MB    | #####      |  51% \n",
      "pandas-1.1.1         | 7.3 MB    | #######3   |  74% \n",
      "pandas-1.1.1         | 7.3 MB    | #########2 |  92% \n",
      "pandas-1.1.1         | 7.3 MB    | ########## | 100% \n",
      "\n",
      "blosc-1.20.0         | 142 KB    |            |   0% \n",
      "blosc-1.20.0         | 142 KB    | ########## | 100% \n",
      "blosc-1.20.0         | 142 KB    | ########## | 100% \n",
      "\n",
      "pyzmq-19.0.2         | 387 KB    |            |   0% \n",
      "pyzmq-19.0.2         | 387 KB    | ########## | 100% \n",
      "pyzmq-19.0.2         | 387 KB    | ########## | 100% \n",
      "Preparing transaction: ...working... done\n",
      "Verifying transaction: ...working... done\n",
      "Executing transaction: ...working... done\n"
     ]
    },
    {
     "name": "stderr",
     "output_type": "stream",
     "text": [
      "C:\\Users\\kesha\\Anaconda3\\lib\\site-packages\\ipykernel_launcher.py:2: TqdmDeprecationWarning: This function will be removed in tqdm==5.0.0\n",
      "Please use `tqdm.notebook.tqdm` instead of `tqdm.tqdm_notebook`\n",
      "  \n"
     ]
    },
    {
     "data": {
      "application/vnd.jupyter.widget-view+json": {
       "model_id": "ba3e63ce01904f9fbf0ffc622411c9d8",
       "version_major": 2,
       "version_minor": 0
      },
      "text/plain": [
       "HBox(children=(FloatProgress(value=0.0, max=10.0), HTML(value='')))"
      ]
     },
     "metadata": {},
     "output_type": "display_data"
    },
    {
     "name": "stdout",
     "output_type": "stream",
     "text": [
      "\n"
     ]
    },
    {
     "data": {
      "text/html": [
       "<div>\n",
       "<style scoped>\n",
       "    .dataframe tbody tr th:only-of-type {\n",
       "        vertical-align: middle;\n",
       "    }\n",
       "\n",
       "    .dataframe tbody tr th {\n",
       "        vertical-align: top;\n",
       "    }\n",
       "\n",
       "    .dataframe thead th {\n",
       "        text-align: right;\n",
       "    }\n",
       "</style>\n",
       "<table border=\"1\" class=\"dataframe\">\n",
       "  <thead>\n",
       "    <tr style=\"text-align: right;\">\n",
       "      <th></th>\n",
       "      <th>Score</th>\n",
       "    </tr>\n",
       "  </thead>\n",
       "  <tbody>\n",
       "    <tr>\n",
       "      <th>5.0</th>\n",
       "      <td>0.000000</td>\n",
       "    </tr>\n",
       "    <tr>\n",
       "      <th>10.0</th>\n",
       "      <td>0.000460</td>\n",
       "    </tr>\n",
       "    <tr>\n",
       "      <th>15.0</th>\n",
       "      <td>0.038013</td>\n",
       "    </tr>\n",
       "    <tr>\n",
       "      <th>20.0</th>\n",
       "      <td>0.353279</td>\n",
       "    </tr>\n",
       "    <tr>\n",
       "      <th>25.0</th>\n",
       "      <td>0.633036</td>\n",
       "    </tr>\n",
       "    <tr>\n",
       "      <th>30.0</th>\n",
       "      <td>0.435410</td>\n",
       "    </tr>\n",
       "    <tr>\n",
       "      <th>35.0</th>\n",
       "      <td>0.000000</td>\n",
       "    </tr>\n",
       "    <tr>\n",
       "      <th>40.0</th>\n",
       "      <td>0.000000</td>\n",
       "    </tr>\n",
       "    <tr>\n",
       "      <th>45.0</th>\n",
       "      <td>0.000000</td>\n",
       "    </tr>\n",
       "    <tr>\n",
       "      <th>50.0</th>\n",
       "      <td>0.000000</td>\n",
       "    </tr>\n",
       "  </tbody>\n",
       "</table>\n",
       "</div>"
      ],
      "text/plain": [
       "         Score\n",
       "5.0   0.000000\n",
       "10.0  0.000460\n",
       "15.0  0.038013\n",
       "20.0  0.353279\n",
       "25.0  0.633036\n",
       "30.0  0.435410\n",
       "35.0  0.000000\n",
       "40.0  0.000000\n",
       "45.0  0.000000\n",
       "50.0  0.000000"
      ]
     },
     "execution_count": 11,
     "metadata": {},
     "output_type": "execute_result"
    }
   ],
   "source": [
    "result = []\n",
    "for bw in tqdm_notebook(np.linspace(5,50,10)):\n",
    "    clust_model = MeanShift(bandwidth=bw)\n",
    "    clust_model.fit(X)\n",
    "    labels = clust_model.labels_\n",
    "    result.append(metrics.adjusted_rand_score(y, labels))\n",
    "res = pd.DataFrame(index=np.linspace(5,50,10))\n",
    "res['Score'] = result\n",
    "res"
   ]
  },
  {
   "cell_type": "code",
   "execution_count": 14,
   "metadata": {},
   "outputs": [
    {
     "name": "stderr",
     "output_type": "stream",
     "text": [
      "C:\\Users\\kesha\\Anaconda3\\lib\\site-packages\\ipykernel_launcher.py:2: TqdmDeprecationWarning: This function will be removed in tqdm==5.0.0\n",
      "Please use `tqdm.notebook.tqdm` instead of `tqdm.tqdm_notebook`\n",
      "  \n"
     ]
    },
    {
     "data": {
      "application/vnd.jupyter.widget-view+json": {
       "model_id": "e77f26a8c0454d76be6bbcfe82670043",
       "version_major": 2,
       "version_minor": 0
      },
      "text/plain": [
       "HBox(children=(FloatProgress(value=0.0, max=9.0), HTML(value='')))"
      ]
     },
     "metadata": {},
     "output_type": "display_data"
    },
    {
     "name": "stdout",
     "output_type": "stream",
     "text": [
      "\n"
     ]
    },
    {
     "data": {
      "text/html": [
       "<div>\n",
       "<style scoped>\n",
       "    .dataframe tbody tr th:only-of-type {\n",
       "        vertical-align: middle;\n",
       "    }\n",
       "\n",
       "    .dataframe tbody tr th {\n",
       "        vertical-align: top;\n",
       "    }\n",
       "\n",
       "    .dataframe thead th {\n",
       "        text-align: right;\n",
       "    }\n",
       "</style>\n",
       "<table border=\"1\" class=\"dataframe\">\n",
       "  <thead>\n",
       "    <tr style=\"text-align: right;\">\n",
       "      <th></th>\n",
       "      <th>Score</th>\n",
       "    </tr>\n",
       "  </thead>\n",
       "  <tbody>\n",
       "    <tr>\n",
       "      <th>21.0</th>\n",
       "      <td>0.428874</td>\n",
       "    </tr>\n",
       "    <tr>\n",
       "      <th>22.0</th>\n",
       "      <td>0.504613</td>\n",
       "    </tr>\n",
       "    <tr>\n",
       "      <th>23.0</th>\n",
       "      <td>0.565381</td>\n",
       "    </tr>\n",
       "    <tr>\n",
       "      <th>24.0</th>\n",
       "      <td>0.611518</td>\n",
       "    </tr>\n",
       "    <tr>\n",
       "      <th>25.0</th>\n",
       "      <td>0.633036</td>\n",
       "    </tr>\n",
       "    <tr>\n",
       "      <th>26.0</th>\n",
       "      <td>0.658008</td>\n",
       "    </tr>\n",
       "    <tr>\n",
       "      <th>27.0</th>\n",
       "      <td>0.574749</td>\n",
       "    </tr>\n",
       "    <tr>\n",
       "      <th>28.0</th>\n",
       "      <td>0.575926</td>\n",
       "    </tr>\n",
       "    <tr>\n",
       "      <th>29.0</th>\n",
       "      <td>0.614136</td>\n",
       "    </tr>\n",
       "  </tbody>\n",
       "</table>\n",
       "</div>"
      ],
      "text/plain": [
       "         Score\n",
       "21.0  0.428874\n",
       "22.0  0.504613\n",
       "23.0  0.565381\n",
       "24.0  0.611518\n",
       "25.0  0.633036\n",
       "26.0  0.658008\n",
       "27.0  0.574749\n",
       "28.0  0.575926\n",
       "29.0  0.614136"
      ]
     },
     "execution_count": 14,
     "metadata": {},
     "output_type": "execute_result"
    }
   ],
   "source": [
    "result = []\n",
    "for bw in tqdm_notebook(np.linspace(21,29,9)):\n",
    "    clust_model = MeanShift(bandwidth=bw)\n",
    "    clust_model.fit(X)\n",
    "    labels = clust_model.labels_\n",
    "    result.append(metrics.adjusted_rand_score(y, labels))\n",
    "res = pd.DataFrame(index=np.linspace(21,29,9))\n",
    "res['Score'] = result\n",
    "res"
   ]
  },
  {
   "cell_type": "code",
   "execution_count": 15,
   "metadata": {},
   "outputs": [
    {
     "ename": "AttributeError",
     "evalue": "module 'sklearn.metrics' has no attribute 'calinski_harabaz_score'",
     "output_type": "error",
     "traceback": [
      "\u001b[1;31m---------------------------------------------------------------------------\u001b[0m",
      "\u001b[1;31mAttributeError\u001b[0m                            Traceback (most recent call last)",
      "\u001b[1;32m<ipython-input-15-eeef417e5b66>\u001b[0m in \u001b[0;36m<module>\u001b[1;34m\u001b[0m\n\u001b[0;32m      9\u001b[0m \u001b[0moutput\u001b[0m\u001b[1;33m.\u001b[0m\u001b[0mloc\u001b[0m\u001b[1;33m[\u001b[0m\u001b[1;34m'Mean-Shift'\u001b[0m\u001b[1;33m,\u001b[0m\u001b[1;34m'FM'\u001b[0m\u001b[1;33m]\u001b[0m \u001b[1;33m=\u001b[0m \u001b[0mmetrics\u001b[0m\u001b[1;33m.\u001b[0m\u001b[0mfowlkes_mallows_score\u001b[0m\u001b[1;33m(\u001b[0m\u001b[0my\u001b[0m\u001b[1;33m,\u001b[0m \u001b[0mlabels\u001b[0m\u001b[1;33m)\u001b[0m\u001b[1;33m\u001b[0m\u001b[1;33m\u001b[0m\u001b[0m\n\u001b[0;32m     10\u001b[0m \u001b[0moutput\u001b[0m\u001b[1;33m.\u001b[0m\u001b[0mloc\u001b[0m\u001b[1;33m[\u001b[0m\u001b[1;34m'Mean-Shift'\u001b[0m\u001b[1;33m,\u001b[0m\u001b[1;34m'SC'\u001b[0m\u001b[1;33m]\u001b[0m \u001b[1;33m=\u001b[0m \u001b[0mmetrics\u001b[0m\u001b[1;33m.\u001b[0m\u001b[0msilhouette_score\u001b[0m\u001b[1;33m(\u001b[0m\u001b[0mX\u001b[0m\u001b[1;33m,\u001b[0m \u001b[0mlabels\u001b[0m\u001b[1;33m,\u001b[0m \u001b[0mmetric\u001b[0m\u001b[1;33m=\u001b[0m\u001b[1;34m'euclidean'\u001b[0m\u001b[1;33m)\u001b[0m\u001b[1;33m\u001b[0m\u001b[1;33m\u001b[0m\u001b[0m\n\u001b[1;32m---> 11\u001b[1;33m \u001b[0moutput\u001b[0m\u001b[1;33m.\u001b[0m\u001b[0mloc\u001b[0m\u001b[1;33m[\u001b[0m\u001b[1;34m'Mean-Shift'\u001b[0m\u001b[1;33m,\u001b[0m\u001b[1;34m'CH'\u001b[0m\u001b[1;33m]\u001b[0m \u001b[1;33m=\u001b[0m \u001b[0mmetrics\u001b[0m\u001b[1;33m.\u001b[0m\u001b[0mcalinski_harabaz_score\u001b[0m\u001b[1;33m(\u001b[0m\u001b[0mX\u001b[0m\u001b[1;33m,\u001b[0m \u001b[0mlabels\u001b[0m\u001b[1;33m)\u001b[0m\u001b[1;33m\u001b[0m\u001b[1;33m\u001b[0m\u001b[0m\n\u001b[0m\u001b[0;32m     12\u001b[0m \u001b[0moutput\u001b[0m\u001b[1;33m.\u001b[0m\u001b[0mloc\u001b[0m\u001b[1;33m[\u001b[0m\u001b[1;34m'Mean-Shift'\u001b[0m\u001b[1;33m,\u001b[0m\u001b[1;34m'DB'\u001b[0m\u001b[1;33m]\u001b[0m \u001b[1;33m=\u001b[0m \u001b[0mmetrics\u001b[0m\u001b[1;33m.\u001b[0m\u001b[0mdavies_bouldin_score\u001b[0m\u001b[1;33m(\u001b[0m\u001b[0mX\u001b[0m\u001b[1;33m,\u001b[0m \u001b[0mlabels\u001b[0m\u001b[1;33m)\u001b[0m\u001b[1;33m\u001b[0m\u001b[1;33m\u001b[0m\u001b[0m\n",
      "\u001b[1;31mAttributeError\u001b[0m: module 'sklearn.metrics' has no attribute 'calinski_harabaz_score'"
     ]
    }
   ],
   "source": [
    "# Fitting Mean-Shift to data\n",
    "clust_model = MeanShift(bandwidth=26)\n",
    "clust_model.fit(X)\n",
    "# Evaluating model's performance\n",
    "labels = clust_model.labels_\n",
    "output.loc['Mean-Shift','ARI'] = metrics.adjusted_rand_score(y, labels)\n",
    "output.loc['Mean-Shift','MI'] = metrics.adjusted_mutual_info_score(y, labels)\n",
    "output.loc['Mean-Shift','HCV'] = metrics.homogeneity_score(y, labels)\n",
    "output.loc['Mean-Shift','FM'] = metrics.fowlkes_mallows_score(y, labels)\n",
    "output.loc['Mean-Shift','SC'] = metrics.silhouette_score(X, labels, metric='euclidean')\n",
    "output.loc['Mean-Shift','CH'] = metrics.calinski_harabaz_score(X, labels)\n",
    "output.loc['Mean-Shift','DB'] = metrics.davies_bouldin_score(X, labels)"
   ]
  },
  {
   "cell_type": "markdown",
   "metadata": {},
   "source": [
    "### DBSCAN"
   ]
  },
  {
   "cell_type": "markdown",
   "metadata": {},
   "source": [
    "Here we need to specify even more parameters... this task becomes even more challenging. Default parameters perform very poor, so I will try something custom, but I'm hopeless to reach good performnce."
   ]
  },
  {
   "cell_type": "code",
   "execution_count": null,
   "metadata": {},
   "outputs": [],
   "source": [
    "# Fitting DBSCAN to data\n",
    "clust_model = DBSCAN(min_samples=2, eps=10)\n",
    "clust_model.fit(X)\n",
    "# Evaluating model's performance\n",
    "labels = clust_model.labels_\n",
    "output.loc['DBSCAN','ARI'] = metrics.adjusted_rand_score(y, labels)\n",
    "output.loc['DBSCAN','MI'] = metrics.adjusted_mutual_info_score(y, labels)\n",
    "output.loc['DBSCAN','HCV'] = metrics.homogeneity_score(y, labels)\n",
    "output.loc['DBSCAN','FM'] = metrics.fowlkes_mallows_score(y, labels)\n",
    "output.loc['DBSCAN','SC'] = metrics.silhouette_score(X, labels, metric='euclidean')\n",
    "output.loc['DBSCAN','CH'] = metrics.calinski_harabaz_score(X, labels)\n",
    "output.loc['DBSCAN','DB'] = metrics.davies_bouldin_score(X, labels)"
   ]
  },
  {
   "cell_type": "markdown",
   "metadata": {},
   "source": [
    "### Birch"
   ]
  },
  {
   "cell_type": "markdown",
   "metadata": {},
   "source": [
    "And finally **Birch** with 3 parameters to specify... Luckily, we know, that we have 10 digits (clusters), so there are only 2 parameters left. In this case I will use defaul parameters."
   ]
  },
  {
   "cell_type": "code",
   "execution_count": null,
   "metadata": {},
   "outputs": [],
   "source": [
    "# Fitting Birch to data\n",
    "clust_model = Birch(n_clusters=10)\n",
    "clust_model.fit(X)\n",
    "# Evaluating model's performance\n",
    "labels = clust_model.labels_\n",
    "output.loc['Birch','ARI'] = metrics.adjusted_rand_score(y, labels)\n",
    "output.loc['Birch','MI'] = metrics.adjusted_mutual_info_score(y, labels)\n",
    "output.loc['Birch','HCV'] = metrics.homogeneity_score(y, labels)\n",
    "output.loc['Birch','FM'] = metrics.fowlkes_mallows_score(y, labels)\n",
    "output.loc['Birch','SC'] = metrics.silhouette_score(X, labels, metric='euclidean')\n",
    "output.loc['Birch','CH'] = metrics.calinski_harabaz_score(X, labels)\n",
    "output.loc['Birch','DB'] = metrics.davies_bouldin_score(X, labels)"
   ]
  },
  {
   "cell_type": "markdown",
   "metadata": {},
   "source": [
    "## Conclusion"
   ]
  },
  {
   "cell_type": "code",
   "execution_count": null,
   "metadata": {},
   "outputs": [],
   "source": [
    "output"
   ]
  },
  {
   "cell_type": "markdown",
   "metadata": {},
   "source": [
    "As we can see Birch method performed best. As for me, Birch is the most complicated algorithm from all described in this tutorial, so it worth spending more time to study Birch better."
   ]
  },
  {
   "cell_type": "markdown",
   "metadata": {},
   "source": [
    "## Useful links"
   ]
  },
  {
   "cell_type": "markdown",
   "metadata": {},
   "source": [
    "1. https://www.kaggle.com/kashnitsky/topic-7-unsupervised-learning-pca-and-clustering\n",
    "2. https://scikit-learn.org/stable/modules/clustering"
   ]
  },
  {
   "cell_type": "code",
   "execution_count": null,
   "metadata": {},
   "outputs": [],
   "source": []
  }
 ],
 "metadata": {
  "kernelspec": {
   "display_name": "Python 3",
   "language": "python",
   "name": "python3"
  },
  "language_info": {
   "codemirror_mode": {
    "name": "ipython",
    "version": 3
   },
   "file_extension": ".py",
   "mimetype": "text/x-python",
   "name": "python",
   "nbconvert_exporter": "python",
   "pygments_lexer": "ipython3",
   "version": "3.7.4"
  }
 },
 "nbformat": 4,
 "nbformat_minor": 1
}
